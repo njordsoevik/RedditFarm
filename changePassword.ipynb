{
 "cells": [
  {
   "cell_type": "code",
   "execution_count": 208,
   "metadata": {},
   "outputs": [],
   "source": [
    "from selenium import webdriver\n",
    "from selenium.webdriver.support.ui import WebDriverWait\n",
    "from selenium.webdriver.common.by import By\n",
    "from selenium.webdriver.support import expected_conditions as EC\n",
    "from selenium.common.exceptions import TimeoutException\n",
    "from selenium.webdriver.remote.webelement import WebElement\n",
    "\n",
    "import string\n",
    "import random\n",
    "import time"
   ]
  },
  {
   "cell_type": "code",
   "execution_count": 114,
   "metadata": {},
   "outputs": [],
   "source": [
    "## characters to generate password from\n",
    "characters = list(string.ascii_letters + string.digits)\n",
    "\n",
    "def generate_random_password(length):\n",
    "\trandom.shuffle(characters)\n",
    "\tpassword = []\n",
    "\tfor i in range(length):\n",
    "\t\tpassword.append(random.choice(characters))\n",
    "\tpassword.append(\"!\")\n",
    "\treturn \"\".join(password)\n",
    "\n",
    "def get_proxies():\n",
    "    options = webdriver.ChromeOptions()\n",
    "    options.add_argument(\"start-maximized\")\n",
    "    options.add_experimental_option(\"excludeSwitches\", [\"enable-automation\"])\n",
    "    options.add_experimental_option('useAutomationExtension', False)\n",
    "    driver = webdriver.Chrome(options=options)\n",
    "    driver.get(\"https://sslproxies.org/\")\n",
    "    driver.execute_script(\"return arguments[0].scrollIntoView(true);\", WebDriverWait(driver, 20).until(EC.visibility_of_element_located((By.XPATH, \"//table[@class='table table-striped table-bordered']//th[contains(., 'IP Address')]\"))))\n",
    "    ips = [my_elem.get_attribute(\"innerHTML\") for my_elem in WebDriverWait(driver, 5).until(EC.visibility_of_all_elements_located((By.XPATH, \"//table[@class='table table-striped table-bordered']//tbody//tr/td[position() = 1]\")))]\n",
    "    ports = [my_elem.get_attribute(\"innerHTML\") for my_elem in WebDriverWait(driver, 5).until(EC.visibility_of_all_elements_located((By.XPATH, \"//table[@class='table table-striped table-bordered']//tbody//tr/td[position() = 2]\")))]\n",
    "    driver.quit()\n",
    "    proxies = []\n",
    "    for i in range(0, len(ips)):\n",
    "        proxies.append(ips[i]+':'+ports[i])\n",
    "    return proxies\n"
   ]
  },
  {
   "cell_type": "code",
   "execution_count": 222,
   "metadata": {},
   "outputs": [],
   "source": [
    "class Driver:\n",
    "    def __init__(self, proxy = None):\n",
    "        options = webdriver.ChromeOptions()\n",
    "        # options.add_argument(\"start-maximized\")\n",
    "        options.add_experimental_option(\"prefs\", { \\\n",
    "            \"profile.default_content_setting_values.notifications\": 1 \n",
    "            })\n",
    "\n",
    "        if proxy is not None:\n",
    "            options.add_argument('--proxy-server={}'.format(proxy))\n",
    "        self.driver = webdriver.Chrome(options=options)\n",
    "    \n",
    "    def login(self, user, password):\n",
    "        self.driver.get(\"https://www.reddit.com/\")\n",
    "        try: \n",
    "            WebDriverWait(self.driver, 5).until(EC.element_to_be_clickable((By.XPATH, \"//a[starts-with(@href, 'https://www.reddit.com/login')]\"))).click()\n",
    "        except TimeoutException:\n",
    "            try: \n",
    "                time.sleep(3)   \n",
    "                self.driver.refresh()\n",
    "                WebDriverWait(self.driver, 5).until(EC.element_to_be_clickable((By.XPATH, \"//a[starts-with(@href, 'https://www.reddit.com/login')]\"))).click()\n",
    "            except TimeoutException:\n",
    "                time.sleep(3)   \n",
    "                self.driver.refresh()\n",
    "                WebDriverWait(self.driver, 5).until(EC.element_to_be_clickable((By.XPATH, \"//a[starts-with(@href, 'https://www.reddit.com/login')]\"))).click() \n",
    "        try:\n",
    "            WebDriverWait(self.driver, 5).until(EC.frame_to_be_available_and_switch_to_it((By.XPATH,\"//iframe[starts-with(@src, 'https://www.reddit.com/login')]\")))\n",
    "        except TimeoutException:\n",
    "            pass \n",
    "        time.sleep(1)\n",
    "        WebDriverWait(self.driver, 20).until(EC.visibility_of_element_located((By.XPATH, \"//input[@id='loginUsername']\"))).send_keys(user)\n",
    "        self.driver.find_element(By.XPATH, \"//input[@id='loginPassword']\").send_keys(password)\n",
    "        self.driver.find_element(By.XPATH, \"//button[@class='AnimatedForm__submitButton m-full-width']\").click()\n",
    "        \n",
    "    def change_email_and_password(self, password, new_password, new_email):\n",
    "        WebDriverWait(self.driver, 20).until(EC.visibility_of_element_located((By.XPATH, \"//input[@name='createPost']\")))\n",
    "        self.driver.get(\"https://www.reddit.com/settings/\")\n",
    "        # Change email\n",
    "        WebDriverWait(self.driver, 20).until(EC.visibility_of_element_located((By.XPATH, \"//*[@class='_2iuoyPiKHN3kfOoeIQalDT _2tU8R9NTqhvBrhoNAXWWcP HNozj_dKjQZ59ZsfEegz8 ']\"))).send_keys(password)[0].click()\n",
    "        # self.driver.find_elements(By.XPATH, \"//*[@class='_2iuoyPiKHN3kfOoeIQalDT _2tU8R9NTqhvBrhoNAXWWcP HNozj_dKjQZ59ZsfEegz8 ']\")[0].click()\n",
    "        WebDriverWait(self.driver, 20).until(EC.visibility_of_element_located((By.XPATH, \"//input[@type='password']\"))).send_keys(password)\n",
    "        WebDriverWait(self.driver, 20).until(EC.visibility_of_element_located((By.XPATH, \"//input[@placeholder='New email']\"))).send_keys(new_email)\n",
    "        WebDriverWait(self.driver, 20).until(EC.visibility_of_element_located((By.XPATH, \"//button[@type='submit']\"))).click()\n",
    "        # Switch to default\n",
    "        self.driver.switch_to.default_content()\n",
    "        # Change password\n",
    "        WebDriverWait(self.driver, 20).until(EC.visibility_of_element_located((By.XPATH, \"//*[@class='_2iuoyPiKHN3kfOoeIQalDT _2tU8R9NTqhvBrhoNAXWWcP HNozj_dKjQZ59ZsfEegz8 ']\"))).send_keys(password)[1].click()\n",
    "        # self.driver.find_elements(By.XPATH, \"//*[@class='_2iuoyPiKHN3kfOoeIQalDT _2tU8R9NTqhvBrhoNAXWWcP HNozj_dKjQZ59ZsfEegz8 ']\")[1].click()\n",
    "        WebDriverWait(self.driver, 20).until(EC.frame_to_be_available_and_switch_to_it((By.XPATH,\"//iframe[starts-with(@src, 'https://www.reddit.com/change_password')]\")))\n",
    "        WebDriverWait(self.driver, 20).until(EC.visibility_of_element_located((By.XPATH, \"//input[@id='old_password']\"))).send_keys(password)\n",
    "        WebDriverWait(self.driver, 20).until(EC.visibility_of_element_located((By.XPATH, \"//input[@id='password']\"))).send_keys(new_password)\n",
    "        WebDriverWait(self.driver, 20).until(EC.visibility_of_element_located((By.XPATH, \"//input[@id='password2']\"))).send_keys(new_password)\n",
    "        WebDriverWait(self.driver, 20).until(EC.visibility_of_element_located((By.XPATH, \"//button[@class='AnimatedForm__submitButton']\"))).click()\n",
    "        return new_password\n",
    "    \n",
    "    def close(self):\n",
    "        self.driver.close()\n",
    "    \n",
    "    def api_prefs(self, user):\n",
    "        WebDriverWait(self.driver, 20).until(EC.visibility_of_element_located((By.XPATH, \"//input[@name='createPost']\")))\n",
    "        self.driver.get(\"https://www.reddit.com/prefs/apps\")\n",
    "        # WebDriverWait(self.driver, 5).until(EC.frame_to_be_available_and_switch_to_it((By.XPATH,\"//iframe[@id = 'gtm-jail')]\")))\n",
    "        WebDriverWait(self.driver, 10).until(EC.element_to_be_clickable((By.XPATH, \"//button[@id= 'create-app-button']\"))).click() \n",
    "        WebDriverWait(self.driver, 10).until(EC.element_to_be_clickable((By.XPATH, \"//input[@name= 'name']\"))).send_keys(user)\n",
    "        WebDriverWait(self.driver, 10).until(EC.element_to_be_clickable((By.XPATH, \"//input[@id= 'app_type_script']\"))).click()\n",
    "        WebDriverWait(self.driver, 10).until(EC.element_to_be_clickable((By.XPATH, \"//input[@name= 'redirect_uri']\"))).send_keys(\"https://www.google.com\")\n",
    "        WebDriverWait(self.driver, 10).until(EC.element_to_be_clickable((By.XPATH, \"//button[@type= 'submit']\"))).click() \n",
    "        # Get API info\n",
    "        client_id = WebDriverWait(chrome.driver, 10).until(EC.visibility_of_element_located((By.XPATH, \"//div[@class='app-details']/h3[2]\")))\n",
    "        client_secret = WebDriverWait(chrome.driver, 10).until(EC.visibility_of_element_located((By.XPATH, \"//td[@class='prefright']\")))\n",
    "        return client_id.text, client_secret.text"
   ]
  },
  {
   "cell_type": "code",
   "execution_count": 146,
   "metadata": {},
   "outputs": [],
   "source": [
    "users = []\n",
    "with open('accounts.csv') as f:\n",
    "    for line in f:\n",
    "        users.append(line.strip())\n",
    "        \n",
    "user_index = 0\n"
   ]
  },
  {
   "cell_type": "code",
   "execution_count": 191,
   "metadata": {},
   "outputs": [
    {
     "name": "stdout",
     "output_type": "stream",
     "text": [
      "20.47.108.204:8888\n"
     ]
    },
    {
     "ename": "KeyboardInterrupt",
     "evalue": "",
     "output_type": "error",
     "traceback": [
      "\u001b[1;31m---------------------------------------------------------------------------\u001b[0m",
      "\u001b[1;31mKeyboardInterrupt\u001b[0m                         Traceback (most recent call last)",
      "\u001b[1;32mc:\\Users\\njord\\OneDrive\\Documents\\Dash\\changePassword.ipynb Cell 5\u001b[0m in \u001b[0;36m<cell line: 3>\u001b[1;34m()\u001b[0m\n\u001b[0;32m      <a href='vscode-notebook-cell:/c%3A/Users/njord/OneDrive/Documents/Dash/changePassword.ipynb#ch0000001?line=7'>8</a>\u001b[0m chrome \u001b[39m=\u001b[39m Driver(proxy)\n\u001b[0;32m      <a href='vscode-notebook-cell:/c%3A/Users/njord/OneDrive/Documents/Dash/changePassword.ipynb#ch0000001?line=8'>9</a>\u001b[0m user, password \u001b[39m=\u001b[39m get_user_pass(userpass)  \n\u001b[1;32m---> <a href='vscode-notebook-cell:/c%3A/Users/njord/OneDrive/Documents/Dash/changePassword.ipynb#ch0000001?line=9'>10</a>\u001b[0m chrome\u001b[39m.\u001b[39;49mlogin(user, password)\n\u001b[0;32m     <a href='vscode-notebook-cell:/c%3A/Users/njord/OneDrive/Documents/Dash/changePassword.ipynb#ch0000001?line=11'>12</a>\u001b[0m \u001b[39mbreak\u001b[39;00m\n\u001b[0;32m     <a href='vscode-notebook-cell:/c%3A/Users/njord/OneDrive/Documents/Dash/changePassword.ipynb#ch0000001?line=12'>13</a>\u001b[0m new_password \u001b[39m=\u001b[39m generate_random_password(\u001b[39m10\u001b[39m)\n",
      "\u001b[1;32mc:\\Users\\njord\\OneDrive\\Documents\\Dash\\changePassword.ipynb Cell 5\u001b[0m in \u001b[0;36mDriver.login\u001b[1;34m(self, user, password)\u001b[0m\n\u001b[0;32m     <a href='vscode-notebook-cell:/c%3A/Users/njord/OneDrive/Documents/Dash/changePassword.ipynb#ch0000001?line=12'>13</a>\u001b[0m \u001b[39mdef\u001b[39;00m \u001b[39mlogin\u001b[39m(\u001b[39mself\u001b[39m, user, password):\n\u001b[1;32m---> <a href='vscode-notebook-cell:/c%3A/Users/njord/OneDrive/Documents/Dash/changePassword.ipynb#ch0000001?line=13'>14</a>\u001b[0m     \u001b[39mself\u001b[39;49m\u001b[39m.\u001b[39;49mdriver\u001b[39m.\u001b[39;49mget(\u001b[39m\"\u001b[39;49m\u001b[39mhttps://www.reddit.com/\u001b[39;49m\u001b[39m\"\u001b[39;49m)\n\u001b[0;32m     <a href='vscode-notebook-cell:/c%3A/Users/njord/OneDrive/Documents/Dash/changePassword.ipynb#ch0000001?line=14'>15</a>\u001b[0m     \u001b[39mtry\u001b[39;00m: \n\u001b[0;32m     <a href='vscode-notebook-cell:/c%3A/Users/njord/OneDrive/Documents/Dash/changePassword.ipynb#ch0000001?line=15'>16</a>\u001b[0m         WebDriverWait(\u001b[39mself\u001b[39m\u001b[39m.\u001b[39mdriver, \u001b[39m5\u001b[39m)\u001b[39m.\u001b[39muntil(EC\u001b[39m.\u001b[39melement_to_be_clickable((By\u001b[39m.\u001b[39mXPATH, \u001b[39m\"\u001b[39m\u001b[39m//a[starts-with(@href, \u001b[39m\u001b[39m'\u001b[39m\u001b[39mhttps://www.reddit.com/login\u001b[39m\u001b[39m'\u001b[39m\u001b[39m)]\u001b[39m\u001b[39m\"\u001b[39m)))\u001b[39m.\u001b[39mclick()\n",
      "File \u001b[1;32mc:\\Python310\\lib\\site-packages\\selenium\\webdriver\\remote\\webdriver.py:447\u001b[0m, in \u001b[0;36mWebDriver.get\u001b[1;34m(self, url)\u001b[0m\n\u001b[0;32m    443\u001b[0m \u001b[39mdef\u001b[39;00m \u001b[39mget\u001b[39m(\u001b[39mself\u001b[39m, url: \u001b[39mstr\u001b[39m) \u001b[39m-\u001b[39m\u001b[39m>\u001b[39m \u001b[39mNone\u001b[39;00m:\n\u001b[0;32m    444\u001b[0m     \u001b[39m\"\"\"\u001b[39;00m\n\u001b[0;32m    445\u001b[0m \u001b[39m    Loads a web page in the current browser session.\u001b[39;00m\n\u001b[0;32m    446\u001b[0m \u001b[39m    \"\"\"\u001b[39;00m\n\u001b[1;32m--> 447\u001b[0m     \u001b[39mself\u001b[39;49m\u001b[39m.\u001b[39;49mexecute(Command\u001b[39m.\u001b[39;49mGET, {\u001b[39m'\u001b[39;49m\u001b[39murl\u001b[39;49m\u001b[39m'\u001b[39;49m: url})\n",
      "File \u001b[1;32mc:\\Python310\\lib\\site-packages\\selenium\\webdriver\\remote\\webdriver.py:433\u001b[0m, in \u001b[0;36mWebDriver.execute\u001b[1;34m(self, driver_command, params)\u001b[0m\n\u001b[0;32m    430\u001b[0m         params[\u001b[39m'\u001b[39m\u001b[39msessionId\u001b[39m\u001b[39m'\u001b[39m] \u001b[39m=\u001b[39m \u001b[39mself\u001b[39m\u001b[39m.\u001b[39msession_id\n\u001b[0;32m    432\u001b[0m params \u001b[39m=\u001b[39m \u001b[39mself\u001b[39m\u001b[39m.\u001b[39m_wrap_value(params)\n\u001b[1;32m--> 433\u001b[0m response \u001b[39m=\u001b[39m \u001b[39mself\u001b[39;49m\u001b[39m.\u001b[39;49mcommand_executor\u001b[39m.\u001b[39;49mexecute(driver_command, params)\n\u001b[0;32m    434\u001b[0m \u001b[39mif\u001b[39;00m response:\n\u001b[0;32m    435\u001b[0m     \u001b[39mself\u001b[39m\u001b[39m.\u001b[39merror_handler\u001b[39m.\u001b[39mcheck_response(response)\n",
      "File \u001b[1;32mc:\\Python310\\lib\\site-packages\\selenium\\webdriver\\remote\\remote_connection.py:344\u001b[0m, in \u001b[0;36mRemoteConnection.execute\u001b[1;34m(self, command, params)\u001b[0m\n\u001b[0;32m    342\u001b[0m data \u001b[39m=\u001b[39m utils\u001b[39m.\u001b[39mdump_json(params)\n\u001b[0;32m    343\u001b[0m url \u001b[39m=\u001b[39m \u001b[39mf\u001b[39m\u001b[39m\"\u001b[39m\u001b[39m{\u001b[39;00m\u001b[39mself\u001b[39m\u001b[39m.\u001b[39m_url\u001b[39m}\u001b[39;00m\u001b[39m{\u001b[39;00mpath\u001b[39m}\u001b[39;00m\u001b[39m\"\u001b[39m\n\u001b[1;32m--> 344\u001b[0m \u001b[39mreturn\u001b[39;00m \u001b[39mself\u001b[39;49m\u001b[39m.\u001b[39;49m_request(command_info[\u001b[39m0\u001b[39;49m], url, body\u001b[39m=\u001b[39;49mdata)\n",
      "File \u001b[1;32mc:\\Python310\\lib\\site-packages\\selenium\\webdriver\\remote\\remote_connection.py:366\u001b[0m, in \u001b[0;36mRemoteConnection._request\u001b[1;34m(self, method, url, body)\u001b[0m\n\u001b[0;32m    363\u001b[0m     body \u001b[39m=\u001b[39m \u001b[39mNone\u001b[39;00m\n\u001b[0;32m    365\u001b[0m \u001b[39mif\u001b[39;00m \u001b[39mself\u001b[39m\u001b[39m.\u001b[39mkeep_alive:\n\u001b[1;32m--> 366\u001b[0m     response \u001b[39m=\u001b[39m \u001b[39mself\u001b[39;49m\u001b[39m.\u001b[39;49m_conn\u001b[39m.\u001b[39;49mrequest(method, url, body\u001b[39m=\u001b[39;49mbody, headers\u001b[39m=\u001b[39;49mheaders)\n\u001b[0;32m    367\u001b[0m     statuscode \u001b[39m=\u001b[39m response\u001b[39m.\u001b[39mstatus\n\u001b[0;32m    368\u001b[0m \u001b[39melse\u001b[39;00m:\n",
      "File \u001b[1;32mc:\\Python310\\lib\\site-packages\\urllib3\\request.py:78\u001b[0m, in \u001b[0;36mRequestMethods.request\u001b[1;34m(self, method, url, fields, headers, **urlopen_kw)\u001b[0m\n\u001b[0;32m     74\u001b[0m     \u001b[39mreturn\u001b[39;00m \u001b[39mself\u001b[39m\u001b[39m.\u001b[39mrequest_encode_url(\n\u001b[0;32m     75\u001b[0m         method, url, fields\u001b[39m=\u001b[39mfields, headers\u001b[39m=\u001b[39mheaders, \u001b[39m*\u001b[39m\u001b[39m*\u001b[39murlopen_kw\n\u001b[0;32m     76\u001b[0m     )\n\u001b[0;32m     77\u001b[0m \u001b[39melse\u001b[39;00m:\n\u001b[1;32m---> 78\u001b[0m     \u001b[39mreturn\u001b[39;00m \u001b[39mself\u001b[39m\u001b[39m.\u001b[39mrequest_encode_body(\n\u001b[0;32m     79\u001b[0m         method, url, fields\u001b[39m=\u001b[39mfields, headers\u001b[39m=\u001b[39mheaders, \u001b[39m*\u001b[39m\u001b[39m*\u001b[39murlopen_kw\n\u001b[0;32m     80\u001b[0m     )\n",
      "File \u001b[1;32mc:\\Python310\\lib\\site-packages\\urllib3\\request.py:170\u001b[0m, in \u001b[0;36mRequestMethods.request_encode_body\u001b[1;34m(self, method, url, fields, headers, encode_multipart, multipart_boundary, **urlopen_kw)\u001b[0m\n\u001b[0;32m    167\u001b[0m extra_kw[\u001b[39m\"\u001b[39m\u001b[39mheaders\u001b[39m\u001b[39m\"\u001b[39m]\u001b[39m.\u001b[39mupdate(headers)\n\u001b[0;32m    168\u001b[0m extra_kw\u001b[39m.\u001b[39mupdate(urlopen_kw)\n\u001b[1;32m--> 170\u001b[0m \u001b[39mreturn\u001b[39;00m \u001b[39mself\u001b[39m\u001b[39m.\u001b[39murlopen(method, url, \u001b[39m*\u001b[39m\u001b[39m*\u001b[39mextra_kw)\n",
      "File \u001b[1;32mc:\\Python310\\lib\\site-packages\\urllib3\\poolmanager.py:376\u001b[0m, in \u001b[0;36mPoolManager.urlopen\u001b[1;34m(self, method, url, redirect, **kw)\u001b[0m\n\u001b[0;32m    374\u001b[0m     response \u001b[39m=\u001b[39m conn\u001b[39m.\u001b[39murlopen(method, url, \u001b[39m*\u001b[39m\u001b[39m*\u001b[39mkw)\n\u001b[0;32m    375\u001b[0m \u001b[39melse\u001b[39;00m:\n\u001b[1;32m--> 376\u001b[0m     response \u001b[39m=\u001b[39m conn\u001b[39m.\u001b[39murlopen(method, u\u001b[39m.\u001b[39mrequest_uri, \u001b[39m*\u001b[39m\u001b[39m*\u001b[39mkw)\n\u001b[0;32m    378\u001b[0m redirect_location \u001b[39m=\u001b[39m redirect \u001b[39mand\u001b[39;00m response\u001b[39m.\u001b[39mget_redirect_location()\n\u001b[0;32m    379\u001b[0m \u001b[39mif\u001b[39;00m \u001b[39mnot\u001b[39;00m redirect_location:\n",
      "File \u001b[1;32mc:\\Python310\\lib\\site-packages\\urllib3\\connectionpool.py:703\u001b[0m, in \u001b[0;36mHTTPConnectionPool.urlopen\u001b[1;34m(self, method, url, body, headers, retries, redirect, assert_same_host, timeout, pool_timeout, release_conn, chunked, body_pos, **response_kw)\u001b[0m\n\u001b[0;32m    700\u001b[0m     \u001b[39mself\u001b[39m\u001b[39m.\u001b[39m_prepare_proxy(conn)\n\u001b[0;32m    702\u001b[0m \u001b[39m# Make the request on the httplib connection object.\u001b[39;00m\n\u001b[1;32m--> 703\u001b[0m httplib_response \u001b[39m=\u001b[39m \u001b[39mself\u001b[39;49m\u001b[39m.\u001b[39;49m_make_request(\n\u001b[0;32m    704\u001b[0m     conn,\n\u001b[0;32m    705\u001b[0m     method,\n\u001b[0;32m    706\u001b[0m     url,\n\u001b[0;32m    707\u001b[0m     timeout\u001b[39m=\u001b[39;49mtimeout_obj,\n\u001b[0;32m    708\u001b[0m     body\u001b[39m=\u001b[39;49mbody,\n\u001b[0;32m    709\u001b[0m     headers\u001b[39m=\u001b[39;49mheaders,\n\u001b[0;32m    710\u001b[0m     chunked\u001b[39m=\u001b[39;49mchunked,\n\u001b[0;32m    711\u001b[0m )\n\u001b[0;32m    713\u001b[0m \u001b[39m# If we're going to release the connection in ``finally:``, then\u001b[39;00m\n\u001b[0;32m    714\u001b[0m \u001b[39m# the response doesn't need to know about the connection. Otherwise\u001b[39;00m\n\u001b[0;32m    715\u001b[0m \u001b[39m# it will also try to release it and we'll have a double-release\u001b[39;00m\n\u001b[0;32m    716\u001b[0m \u001b[39m# mess.\u001b[39;00m\n\u001b[0;32m    717\u001b[0m response_conn \u001b[39m=\u001b[39m conn \u001b[39mif\u001b[39;00m \u001b[39mnot\u001b[39;00m release_conn \u001b[39melse\u001b[39;00m \u001b[39mNone\u001b[39;00m\n",
      "File \u001b[1;32mc:\\Python310\\lib\\site-packages\\urllib3\\connectionpool.py:449\u001b[0m, in \u001b[0;36mHTTPConnectionPool._make_request\u001b[1;34m(self, conn, method, url, timeout, chunked, **httplib_request_kw)\u001b[0m\n\u001b[0;32m    444\u001b[0m             httplib_response \u001b[39m=\u001b[39m conn\u001b[39m.\u001b[39mgetresponse()\n\u001b[0;32m    445\u001b[0m         \u001b[39mexcept\u001b[39;00m \u001b[39mBaseException\u001b[39;00m \u001b[39mas\u001b[39;00m e:\n\u001b[0;32m    446\u001b[0m             \u001b[39m# Remove the TypeError from the exception chain in\u001b[39;00m\n\u001b[0;32m    447\u001b[0m             \u001b[39m# Python 3 (including for exceptions like SystemExit).\u001b[39;00m\n\u001b[0;32m    448\u001b[0m             \u001b[39m# Otherwise it looks like a bug in the code.\u001b[39;00m\n\u001b[1;32m--> 449\u001b[0m             six\u001b[39m.\u001b[39;49mraise_from(e, \u001b[39mNone\u001b[39;49;00m)\n\u001b[0;32m    450\u001b[0m \u001b[39mexcept\u001b[39;00m (SocketTimeout, BaseSSLError, SocketError) \u001b[39mas\u001b[39;00m e:\n\u001b[0;32m    451\u001b[0m     \u001b[39mself\u001b[39m\u001b[39m.\u001b[39m_raise_timeout(err\u001b[39m=\u001b[39me, url\u001b[39m=\u001b[39murl, timeout_value\u001b[39m=\u001b[39mread_timeout)\n",
      "File \u001b[1;32m<string>:3\u001b[0m, in \u001b[0;36mraise_from\u001b[1;34m(value, from_value)\u001b[0m\n",
      "File \u001b[1;32mc:\\Python310\\lib\\site-packages\\urllib3\\connectionpool.py:444\u001b[0m, in \u001b[0;36mHTTPConnectionPool._make_request\u001b[1;34m(self, conn, method, url, timeout, chunked, **httplib_request_kw)\u001b[0m\n\u001b[0;32m    441\u001b[0m \u001b[39mexcept\u001b[39;00m \u001b[39mTypeError\u001b[39;00m:\n\u001b[0;32m    442\u001b[0m     \u001b[39m# Python 3\u001b[39;00m\n\u001b[0;32m    443\u001b[0m     \u001b[39mtry\u001b[39;00m:\n\u001b[1;32m--> 444\u001b[0m         httplib_response \u001b[39m=\u001b[39m conn\u001b[39m.\u001b[39;49mgetresponse()\n\u001b[0;32m    445\u001b[0m     \u001b[39mexcept\u001b[39;00m \u001b[39mBaseException\u001b[39;00m \u001b[39mas\u001b[39;00m e:\n\u001b[0;32m    446\u001b[0m         \u001b[39m# Remove the TypeError from the exception chain in\u001b[39;00m\n\u001b[0;32m    447\u001b[0m         \u001b[39m# Python 3 (including for exceptions like SystemExit).\u001b[39;00m\n\u001b[0;32m    448\u001b[0m         \u001b[39m# Otherwise it looks like a bug in the code.\u001b[39;00m\n\u001b[0;32m    449\u001b[0m         six\u001b[39m.\u001b[39mraise_from(e, \u001b[39mNone\u001b[39;00m)\n",
      "File \u001b[1;32mc:\\Python310\\lib\\http\\client.py:1374\u001b[0m, in \u001b[0;36mHTTPConnection.getresponse\u001b[1;34m(self)\u001b[0m\n\u001b[0;32m   1372\u001b[0m \u001b[39mtry\u001b[39;00m:\n\u001b[0;32m   1373\u001b[0m     \u001b[39mtry\u001b[39;00m:\n\u001b[1;32m-> 1374\u001b[0m         response\u001b[39m.\u001b[39;49mbegin()\n\u001b[0;32m   1375\u001b[0m     \u001b[39mexcept\u001b[39;00m \u001b[39mConnectionError\u001b[39;00m:\n\u001b[0;32m   1376\u001b[0m         \u001b[39mself\u001b[39m\u001b[39m.\u001b[39mclose()\n",
      "File \u001b[1;32mc:\\Python310\\lib\\http\\client.py:318\u001b[0m, in \u001b[0;36mHTTPResponse.begin\u001b[1;34m(self)\u001b[0m\n\u001b[0;32m    316\u001b[0m \u001b[39m# read until we get a non-100 response\u001b[39;00m\n\u001b[0;32m    317\u001b[0m \u001b[39mwhile\u001b[39;00m \u001b[39mTrue\u001b[39;00m:\n\u001b[1;32m--> 318\u001b[0m     version, status, reason \u001b[39m=\u001b[39m \u001b[39mself\u001b[39;49m\u001b[39m.\u001b[39;49m_read_status()\n\u001b[0;32m    319\u001b[0m     \u001b[39mif\u001b[39;00m status \u001b[39m!=\u001b[39m CONTINUE:\n\u001b[0;32m    320\u001b[0m         \u001b[39mbreak\u001b[39;00m\n",
      "File \u001b[1;32mc:\\Python310\\lib\\http\\client.py:279\u001b[0m, in \u001b[0;36mHTTPResponse._read_status\u001b[1;34m(self)\u001b[0m\n\u001b[0;32m    278\u001b[0m \u001b[39mdef\u001b[39;00m \u001b[39m_read_status\u001b[39m(\u001b[39mself\u001b[39m):\n\u001b[1;32m--> 279\u001b[0m     line \u001b[39m=\u001b[39m \u001b[39mstr\u001b[39m(\u001b[39mself\u001b[39;49m\u001b[39m.\u001b[39;49mfp\u001b[39m.\u001b[39;49mreadline(_MAXLINE \u001b[39m+\u001b[39;49m \u001b[39m1\u001b[39;49m), \u001b[39m\"\u001b[39m\u001b[39miso-8859-1\u001b[39m\u001b[39m\"\u001b[39m)\n\u001b[0;32m    280\u001b[0m     \u001b[39mif\u001b[39;00m \u001b[39mlen\u001b[39m(line) \u001b[39m>\u001b[39m _MAXLINE:\n\u001b[0;32m    281\u001b[0m         \u001b[39mraise\u001b[39;00m LineTooLong(\u001b[39m\"\u001b[39m\u001b[39mstatus line\u001b[39m\u001b[39m\"\u001b[39m)\n",
      "File \u001b[1;32mc:\\Python310\\lib\\socket.py:705\u001b[0m, in \u001b[0;36mSocketIO.readinto\u001b[1;34m(self, b)\u001b[0m\n\u001b[0;32m    703\u001b[0m \u001b[39mwhile\u001b[39;00m \u001b[39mTrue\u001b[39;00m:\n\u001b[0;32m    704\u001b[0m     \u001b[39mtry\u001b[39;00m:\n\u001b[1;32m--> 705\u001b[0m         \u001b[39mreturn\u001b[39;00m \u001b[39mself\u001b[39;49m\u001b[39m.\u001b[39;49m_sock\u001b[39m.\u001b[39;49mrecv_into(b)\n\u001b[0;32m    706\u001b[0m     \u001b[39mexcept\u001b[39;00m timeout:\n\u001b[0;32m    707\u001b[0m         \u001b[39mself\u001b[39m\u001b[39m.\u001b[39m_timeout_occurred \u001b[39m=\u001b[39m \u001b[39mTrue\u001b[39;00m\n",
      "\u001b[1;31mKeyboardInterrupt\u001b[0m: "
     ]
    }
   ],
   "source": [
    "count = 0\n",
    "proxy_list = [\"20.47.108.204:8888\"]\n",
    "while user_index < len(users):\n",
    "  userpass = users[user_index]\n",
    "  # proxy = proxies[index % len(proxies)]\n",
    "  print(proxy)\n",
    "  proxy = proxy_list[user_index % len(proxy_list)]\n",
    "  chrome = Driver(proxy)\n",
    "  user, password = get_user_pass(userpass)  \n",
    "  chrome.login(user, password)\n",
    "  new_password = generate_random_password(10)\n",
    "  new_email = user + \"@gmail.com\"\n",
    "  chrome.change_email_and_password(password, new_password, new_email)\n",
    "  print(user + new_password)\n",
    "  chrome.close()\n",
    "  out = open('newaccounts_withapi.csv', 'a+')\n",
    "  out.write(user+\":\"+new_password + \":\" + proxy + \"\\n\")\n",
    "  out.close()\n",
    "  count+=1\n",
    "  user_index+=1\n",
    "  time.sleep(4)\n",
    "  "
   ]
  },
  {
   "cell_type": "code",
   "execution_count": 221,
   "metadata": {},
   "outputs": [
    {
     "name": "stdout",
     "output_type": "stream",
     "text": [
      "(<selenium.webdriver.remote.webelement.WebElement (session=\"aeeeaa194f19d9426f4d446de6e9084d\", element=\"b98001f7-1827-485a-8585-a0e48d9a6b8c\")>, <selenium.webdriver.remote.webelement.WebElement (session=\"aeeeaa194f19d9426f4d446de6e9084d\", element=\"7853a9e1-e510-4ef9-89b1-c71536d70ea6\")>)\n"
     ]
    }
   ],
   "source": [
    "chrome = Driver()\n",
    "chrome.login(\"Known_Grade_1184\", \"ruth#N9s\")\n",
    "print(chrome.api_prefs(\"Known_Grade_1184\"))\n",
    "# # Change email\n",
    "# self.driver.find_elements(By.XPATH, \"//*[@class='_2iuoyPiKHN3kfOoeIQalDT _2tU8R9NTqhvBrhoNAXWWcP HNozj_dKjQZ59ZsfEegz8 ']\")[0].click()\n",
    "# WebDriverWait(self.driver, 20).until(EC.visibility_of_element_located((By.XPATH, \"//input[@type='password']\"))).send_keys(password)\n",
    "# WebDriverWait(self.driver, 20).until(EC.visibility_of_element_located((By.XPATH, \"//input[@placeholder='New email']\"))).send_keys(new_email)\n",
    "# WebDriverWait(self.driver, 20).until(EC.visibility_of_element_located((By.XPATH, \"//button[@type='submit']\"))).click()"
   ]
  },
  {
   "cell_type": "code",
   "execution_count": 218,
   "metadata": {},
   "outputs": [
    {
     "name": "stdout",
     "output_type": "stream",
     "text": [
      "zxsubK92KO2rbLs3xJCmdw\n",
      "npU7DyVtLo2_IgV2Akwf09rjdT0b6Q\n"
     ]
    }
   ],
   "source": [
    "client_id = WebDriverWait(chrome.driver, 10).until(EC.visibility_of_element_located((By.XPATH, \"//div[@class='app-details']/h3[2]\")))\n",
    "print(client_id.text)\n",
    "client_secret = WebDriverWait(chrome.driver, 10).until(EC.visibility_of_element_located((By.XPATH, \"//td[@class='prefright']\")))\n",
    "print(client_secret.text)"
   ]
  }
 ],
 "metadata": {
  "kernelspec": {
   "display_name": "Python 3.10.2 64-bit",
   "language": "python",
   "name": "python3"
  },
  "language_info": {
   "codemirror_mode": {
    "name": "ipython",
    "version": 3
   },
   "file_extension": ".py",
   "mimetype": "text/x-python",
   "name": "python",
   "nbconvert_exporter": "python",
   "pygments_lexer": "ipython3",
   "version": "3.10.2"
  },
  "orig_nbformat": 4,
  "vscode": {
   "interpreter": {
    "hash": "369f2c481f4da34e4445cda3fffd2e751bd1c4d706f27375911949ba6bb62e1c"
   }
  }
 },
 "nbformat": 4,
 "nbformat_minor": 2
}
