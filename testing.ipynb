{
 "cells": [
  {
   "cell_type": "code",
   "execution_count": 8,
   "metadata": {},
   "outputs": [],
   "source": [
    "import praw"
   ]
  },
  {
   "cell_type": "code",
   "execution_count": 9,
   "metadata": {},
   "outputs": [],
   "source": [
    "\n",
    "class Reddit: \n",
    "    def __init__(self, name, password, client_id, client_secret, user_agent):\n",
    "        self.client = praw.Reddit(client_id=client_id,\n",
    "                        client_secret=client_secret, password=password,\n",
    "                        user_agent=user_agent, username=name)\n",
    "                        \n",
    "    def query(self, subreddit, filterBy, limit):\n",
    "        subreddit_client = self.client.subreddit(subreddit)\n",
    "        returned_submissions = None\n",
    "        if filterBy == \"top\": \n",
    "            returned_submissions = subreddit_client.top(limit = limit)\n",
    "        elif filterBy == \"hot\": \n",
    "            returned_submissions = subreddit_client.top(limit = limit)\n",
    "        \n",
    "        return subreddit_client, returned_submissions\n",
    "\n",
    "    def query_comments(self, id, sortBy, limit):\n",
    "        sub = self.client.submission(id)\n",
    "        sub.comment_sort = sortBy\n",
    "        sub.comment_limit = limit\n",
    "        comments = []\n",
    "        for comment in sub.comments:\n",
    "            if isinstance(comment, praw.Models.MoreComments):\n",
    "                continue\n",
    "            # Here you can fetch data off the comment.\n",
    "            # For the sake of example, we're just printing the comment body.\n",
    "            comments.append(comment)\n",
    "        return comments\n",
    "\n",
    "                     \n",
    "    def post(self, client, subreddit_name, post):\n",
    "        r = None\n",
    "        if post.is_self:\n",
    "            print(\"Post is a self post\")\n",
    "            r = client.submit(title = post.title, selftext = post.selftext)\n",
    "    \n",
    "        elif post.is_video:\n",
    "            print(\"Post is a video post\")\n",
    "        else:\n",
    "            print(\"Post is a image post\")\n",
    "            r = client.submit(title = post.title, url = post.url)\n",
    "            print(r)\n",
    "        return r\n",
    "\n",
    "    def comment(self, id, comment):\n",
    "        sub = self.client.submission(id)\n",
    "        return sub.reply(body=comment)"
   ]
  },
  {
   "cell_type": "code",
   "execution_count": 12,
   "metadata": {},
   "outputs": [],
   "source": [
    "reddit = Reddit(\"Swimming-Run-2955\", \"Redditfarm01!\", \"3J6NyjC0-UmOvpeGgL7aHA\", \"MaLWmyVoAIlq66noP5UUZVc-U4FGtQ\", \"ttt\")"
   ]
  },
  {
   "cell_type": "code",
   "execution_count": 30,
   "metadata": {},
   "outputs": [],
   "source": [
    "sub = reddit.client.submission(\"vzswyf\")\n",
    "try:\n",
    "    id = sub.id\n",
    "except:\n",
    "    print(\"caught\")"
   ]
  },
  {
   "cell_type": "code",
   "execution_count": 31,
   "metadata": {},
   "outputs": [
    {
     "name": "stdout",
     "output_type": "stream",
     "text": [
      "iggcsa4\n"
     ]
    }
   ],
   "source": [
    "c = sub.reply(body=\"test comment 2\")\n",
    "print(c)"
   ]
  },
  {
   "cell_type": "code",
   "execution_count": 32,
   "metadata": {},
   "outputs": [
    {
     "ename": "AttributeError",
     "evalue": "'Reddit' object has no attribute 'comment'",
     "output_type": "error",
     "traceback": [
      "\u001b[0;31m---------------------------------------------------------------------------\u001b[0m",
      "\u001b[0;31mAttributeError\u001b[0m                            Traceback (most recent call last)",
      "\u001b[1;32m/Users/njordsoevik/Documents/Projects/RedditFarm/testing.ipynb Cell 6\u001b[0m in \u001b[0;36m<cell line: 1>\u001b[0;34m()\u001b[0m\n\u001b[0;32m----> <a href='vscode-notebook-cell:/Users/njordsoevik/Documents/Projects/RedditFarm/testing.ipynb#ch0000005?line=0'>1</a>\u001b[0m c \u001b[39m=\u001b[39m reddit\u001b[39m.\u001b[39;49mcomment(\u001b[39mid\u001b[39m\u001b[39m=\u001b[39m\u001b[39m\"\u001b[39m\u001b[39miggcsa4\u001b[39m\u001b[39m\"\u001b[39m)\n",
      "\u001b[0;31mAttributeError\u001b[0m: 'Reddit' object has no attribute 'comment'"
     ]
    }
   ],
   "source": [
    "c = reddit.comment(id=\"iggcsa4\")"
   ]
  }
 ],
 "metadata": {
  "kernelspec": {
   "display_name": "Python 3.9.12 64-bit",
   "language": "python",
   "name": "python3"
  },
  "language_info": {
   "codemirror_mode": {
    "name": "ipython",
    "version": 3
   },
   "file_extension": ".py",
   "mimetype": "text/x-python",
   "name": "python",
   "nbconvert_exporter": "python",
   "pygments_lexer": "ipython3",
   "version": "3.9.12"
  },
  "orig_nbformat": 4,
  "vscode": {
   "interpreter": {
    "hash": "b0fa6594d8f4cbf19f97940f81e996739fb7646882a419484c72d19e05852a7e"
   }
  }
 },
 "nbformat": 4,
 "nbformat_minor": 2
}
